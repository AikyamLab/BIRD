{
 "cells": [
  {
   "cell_type": "code",
   "execution_count": null,
   "id": "0ef3fa71",
   "metadata": {},
   "outputs": [],
   "source": [
    "import os\n",
    "import shutil\n",
    "from sklearn.model_selection import train_test_split\n",
    "import numpy as np\n",
    "import pandas as pd"
   ]
  },
  {
   "cell_type": "code",
   "execution_count": null,
   "id": "cdbcb068",
   "metadata": {},
   "outputs": [],
   "source": [
    "task_idx = 3\n",
    "sens_idx = 21\n",
    "random_state = 42"
   ]
  },
  {
   "cell_type": "markdown",
   "id": "9d7f266d",
   "metadata": {},
   "source": [
    "Download the CelebA dataset from the official <a href=\"https://mmlab.ie.cuhk.edu.hk/projects/CelebA.html\">website</a> to a desired directory. `unzip` and `cd` into the directory containing the CelebA dataset before running the subsequent code. Make sure the image folder and `list_attr_celeba.csv` is present in the working directory."
   ]
  },
  {
   "cell_type": "code",
   "execution_count": null,
   "id": "65e8549b",
   "metadata": {},
   "outputs": [],
   "source": [
    "data = pd.read_csv('list_attr_celeba.csv')\n",
    "train_data = data.iloc[:162770]\n",
    "quiz_data = data.iloc[162770:182637]\n",
    "test_data = data.iloc[182637:202598]"
   ]
  },
  {
   "cell_type": "code",
   "execution_count": null,
   "id": "1912d50d",
   "metadata": {},
   "outputs": [],
   "source": [
    "# balance test set\n",
    "min_samples = float('inf')\n",
    "for i in [-1, 1]:\n",
    "    for j in [-1, 1]:\n",
    "        new_min = len(test_data[(test_data[\"Attractive\"]==i) & (test_data[\"Male\"]==j)])\n",
    "        print(i, j, new_min)\n",
    "        \n",
    "        if new_min < min_samples:\n",
    "            min_samples = new_min"
   ]
  },
  {
   "cell_type": "code",
   "execution_count": null,
   "id": "d1d4a3db",
   "metadata": {},
   "outputs": [],
   "source": [
    "subset = []\n",
    "for j in [-1, 1]:\n",
    "    for i in [-1, 1]:\n",
    "        x = test_data[(test_data[\"Attractive\"]==i) & (test_data[\"Male\"]==j)]\n",
    "        subset.append(x.sample(int(min_samples), random_state=random_state))\n",
    "\n",
    "subset = pd.concat(subset)"
   ]
  },
  {
   "cell_type": "code",
   "execution_count": null,
   "id": "653cdf43",
   "metadata": {},
   "outputs": [],
   "source": [
    "subset.to_csv(f\"test.csv\")"
   ]
  },
  {
   "cell_type": "code",
   "execution_count": null,
   "id": "9af242cf",
   "metadata": {},
   "outputs": [],
   "source": [
    "train_data.to_csv(\"train.csv\")"
   ]
  },
  {
   "cell_type": "code",
   "execution_count": null,
   "id": "7fc9d1bf",
   "metadata": {},
   "outputs": [],
   "source": [
    "quiz_data.to_csv(\"quiz.csv\")"
   ]
  },
  {
   "cell_type": "code",
   "execution_count": null,
   "id": "10a88096",
   "metadata": {},
   "outputs": [],
   "source": [
    "combined = pd.concat([train_data, quiz_data])"
   ]
  },
  {
   "cell_type": "code",
   "execution_count": null,
   "id": "1acfdee2",
   "metadata": {},
   "outputs": [],
   "source": [
    "combined.to_csv(\"combined.csv\")"
   ]
  },
  {
   "cell_type": "markdown",
   "id": "fe564b63",
   "metadata": {},
   "source": [
    "After creating the appropriate test split, please add the root dataset directory path to `dataset.py`."
   ]
  },
  {
   "cell_type": "code",
   "execution_count": null,
   "id": "5af5103b",
   "metadata": {},
   "outputs": [],
   "source": []
  }
 ],
 "metadata": {
  "kernelspec": {
   "display_name": "Python 3",
   "language": "python",
   "name": "python3"
  },
  "language_info": {
   "codemirror_mode": {
    "name": "ipython",
    "version": 3
   },
   "file_extension": ".py",
   "mimetype": "text/x-python",
   "name": "python",
   "nbconvert_exporter": "python",
   "pygments_lexer": "ipython3",
   "version": "3.7.12"
  }
 },
 "nbformat": 4,
 "nbformat_minor": 5
}
